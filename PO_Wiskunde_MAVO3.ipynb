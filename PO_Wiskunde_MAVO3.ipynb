{
 "cells": [
  {
   "cell_type": "code",
   "execution_count": 1,
   "id": "6e49657a-f7c2-43df-8ac0-1c4c8f827840",
   "metadata": {},
   "outputs": [
    {
     "name": "stdout",
     "output_type": "stream",
     "text": [
      "Using matplotlib backend: agg\n"
     ]
    }
   ],
   "source": [
    "# Lees software in\n",
    "%matplotlib\n",
    "%matplotlib inline\n",
    "import matplotlib.pyplot as plt\n",
    "from io import StringIO\n",
    "import pandas as pd\n",
    "import math"
   ]
  },
  {
   "cell_type": "code",
   "execution_count": 2,
   "id": "86b54d65-c976-47be-b737-22dc33c61973",
   "metadata": {},
   "outputs": [],
   "source": [
    "# Ze de data klaar\n",
    "data = \"\"\"\n",
    "leerling,geslacht,leeftijd,lengte,reistijd,youtube,insta_snap,\\\n",
    "tel_netflix,huiswerk,slapen,wiskunde_cijfer\n",
    "1,man,15,170,60,180,120,60,30,9,7\n",
    "2,man,14,180,8,45,210,60,0,6,6\n",
    "3,man,14,170,18,120,60,0,60,8,6\n",
    "4,man,15,165,10,180,180,60,60,9,5\n",
    "5,vrouw,14,155,15,60,120,420,0,8,4\n",
    "6,man,14,170,20,60,540,180,30,6,7\n",
    "7,vrouw,14,176,10,0,420,60,15,8,7\n",
    "8,vrouw,15,173,10,30,360,120,0,7,7\n",
    "9,man,15,185,30,120,300,0,20,6,5\n",
    "10,man,14,162,45,300,120,0,30,7,7\n",
    "11,man,15,185,30,20,10,0,30,7,8\n",
    "12,man,15,178,30,60,120,0,0,6,7\n",
    "13,man,15,170,25,60,120,0,30,8,6\n",
    "14,man,14,177,5,240,150,60,90,9,4\n",
    "15,man,15,186,10,60,15,0,30,7,7\n",
    "16,man,14,188,15,0,60,60,0,8,5\n",
    "17,man,14,195,8,120,120,180,120,8,7\n",
    "18,vrouw,15,161,10,0,0,240,60,6,7\n",
    "19,vrouw,15,168,30,180,60,120,120,8,7\n",
    "20,man,14,180,15,60,60,40,30,8,9\n",
    "21,vrouw,14,155,12,180,120,180,120,8,6\n",
    "22,vrouw,14,174,18,40,540,120,120,10,7\n",
    "\"\"\""
   ]
  },
  {
   "cell_type": "code",
   "execution_count": 3,
   "id": "d86f4281-2883-4e92-b386-69a089c6713f",
   "metadata": {},
   "outputs": [
    {
     "data": {
      "text/html": [
       "<div>\n",
       "<style scoped>\n",
       "    .dataframe tbody tr th:only-of-type {\n",
       "        vertical-align: middle;\n",
       "    }\n",
       "\n",
       "    .dataframe tbody tr th {\n",
       "        vertical-align: top;\n",
       "    }\n",
       "\n",
       "    .dataframe thead th {\n",
       "        text-align: right;\n",
       "    }\n",
       "</style>\n",
       "<table border=\"1\" class=\"dataframe\">\n",
       "  <thead>\n",
       "    <tr style=\"text-align: right;\">\n",
       "      <th></th>\n",
       "      <th>leerling</th>\n",
       "      <th>geslacht</th>\n",
       "      <th>leeftijd</th>\n",
       "      <th>lengte</th>\n",
       "      <th>reistijd</th>\n",
       "      <th>youtube</th>\n",
       "      <th>insta_snap</th>\n",
       "      <th>tel_netflix</th>\n",
       "      <th>huiswerk</th>\n",
       "      <th>slapen</th>\n",
       "      <th>wiskunde_cijfer</th>\n",
       "    </tr>\n",
       "  </thead>\n",
       "  <tbody>\n",
       "    <tr>\n",
       "      <th>0</th>\n",
       "      <td>1</td>\n",
       "      <td>man</td>\n",
       "      <td>15</td>\n",
       "      <td>170</td>\n",
       "      <td>60</td>\n",
       "      <td>180</td>\n",
       "      <td>120</td>\n",
       "      <td>60</td>\n",
       "      <td>30</td>\n",
       "      <td>9</td>\n",
       "      <td>7</td>\n",
       "    </tr>\n",
       "    <tr>\n",
       "      <th>1</th>\n",
       "      <td>2</td>\n",
       "      <td>man</td>\n",
       "      <td>14</td>\n",
       "      <td>180</td>\n",
       "      <td>8</td>\n",
       "      <td>45</td>\n",
       "      <td>210</td>\n",
       "      <td>60</td>\n",
       "      <td>0</td>\n",
       "      <td>6</td>\n",
       "      <td>6</td>\n",
       "    </tr>\n",
       "    <tr>\n",
       "      <th>2</th>\n",
       "      <td>3</td>\n",
       "      <td>man</td>\n",
       "      <td>14</td>\n",
       "      <td>170</td>\n",
       "      <td>18</td>\n",
       "      <td>120</td>\n",
       "      <td>60</td>\n",
       "      <td>0</td>\n",
       "      <td>60</td>\n",
       "      <td>8</td>\n",
       "      <td>6</td>\n",
       "    </tr>\n",
       "    <tr>\n",
       "      <th>3</th>\n",
       "      <td>4</td>\n",
       "      <td>man</td>\n",
       "      <td>15</td>\n",
       "      <td>165</td>\n",
       "      <td>10</td>\n",
       "      <td>180</td>\n",
       "      <td>180</td>\n",
       "      <td>60</td>\n",
       "      <td>60</td>\n",
       "      <td>9</td>\n",
       "      <td>5</td>\n",
       "    </tr>\n",
       "    <tr>\n",
       "      <th>4</th>\n",
       "      <td>5</td>\n",
       "      <td>vrouw</td>\n",
       "      <td>14</td>\n",
       "      <td>155</td>\n",
       "      <td>15</td>\n",
       "      <td>60</td>\n",
       "      <td>120</td>\n",
       "      <td>420</td>\n",
       "      <td>0</td>\n",
       "      <td>8</td>\n",
       "      <td>4</td>\n",
       "    </tr>\n",
       "  </tbody>\n",
       "</table>\n",
       "</div>"
      ],
      "text/plain": [
       "   leerling geslacht  leeftijd  lengte  reistijd  youtube  insta_snap  \\\n",
       "0         1      man        15     170        60      180         120   \n",
       "1         2      man        14     180         8       45         210   \n",
       "2         3      man        14     170        18      120          60   \n",
       "3         4      man        15     165        10      180         180   \n",
       "4         5    vrouw        14     155        15       60         120   \n",
       "\n",
       "   tel_netflix  huiswerk  slapen  wiskunde_cijfer  \n",
       "0           60        30       9                7  \n",
       "1           60         0       6                6  \n",
       "2            0        60       8                6  \n",
       "3           60        60       9                5  \n",
       "4          420         0       8                4  "
      ]
     },
     "execution_count": 3,
     "metadata": {},
     "output_type": "execute_result"
    }
   ],
   "source": [
    "# Lees data in\n",
    "klas = pd.read_csv(StringIO(data))\n",
    "klas.head(5) # geef de 5 eerste regels"
   ]
  },
  {
   "cell_type": "code",
   "execution_count": 4,
   "id": "3ccdb616-6a2f-4601-b8e2-5057b6a78dfa",
   "metadata": {},
   "outputs": [],
   "source": [
    "# Opdracht 1: Telling of steekproef\n",
    "\n",
    "# Het is door middel van een telling omdat iedereen uit de klas in het tabel staat, en niet maar een paar leerlingen."
   ]
  },
  {
   "cell_type": "code",
   "execution_count": 5,
   "id": "504e423a-4ccd-4709-85c0-7c34c74deecb",
   "metadata": {},
   "outputs": [
    {
     "data": {
      "text/plain": [
       "14.5"
      ]
     },
     "execution_count": 5,
     "metadata": {},
     "output_type": "execute_result"
    }
   ],
   "source": [
    "# Opdracht 2: Wat is de gemiddelde leeftijd van de leerlingen in jouw klas? Rond af op 1 decimaal\n",
    "klas['leeftijd'].mean().round(1)"
   ]
  },
  {
   "cell_type": "code",
   "execution_count": 6,
   "id": "36151fab-f06a-41cf-a26a-0150537a72e6",
   "metadata": {},
   "outputs": [
    {
     "data": {
      "text/plain": [
       "14"
      ]
     },
     "execution_count": 6,
     "metadata": {},
     "output_type": "execute_result"
    }
   ],
   "source": [
    "# Opdracht 3: Welke leeftijd is de modus en waarom?\n",
    "\n",
    "# De modus is de leeftijd die het meeste voorkomt. Voor deze klas is dat: 14\n",
    "klas['leeftijd'].mode()[0]"
   ]
  },
  {
   "cell_type": "code",
   "execution_count": 7,
   "id": "8775e805-eb0b-451d-8781-df04933351f1",
   "metadata": {},
   "outputs": [
    {
     "data": {
      "text/plain": [
       "leerling               1\n",
       "geslacht             man\n",
       "leeftijd            14.0\n",
       "lengte             170.0\n",
       "reistijd            10.0\n",
       "youtube             60.0\n",
       "insta_snap         120.0\n",
       "tel_netflix          0.0\n",
       "huiswerk            30.0\n",
       "slapen               8.0\n",
       "wiskunde_cijfer      7.0\n",
       "Name: 0, dtype: object"
      ]
     },
     "execution_count": 7,
     "metadata": {},
     "output_type": "execute_result"
    }
   ],
   "source": [
    "# Of de modus voor all kolommen\n",
    "klas.mode().iloc[0,:]"
   ]
  },
  {
   "cell_type": "code",
   "execution_count": 8,
   "id": "312148b7-0e9f-4126-b0a0-1a4ce47ed3c3",
   "metadata": {},
   "outputs": [
    {
     "data": {
      "text/plain": [
       "'4: Mediaan is 14, of zonder extra stappen 14'"
      ]
     },
     "execution_count": 8,
     "metadata": {},
     "output_type": "execute_result"
    }
   ],
   "source": [
    "# Opdracht 4: Welke leeftijd is de mediaan:\n",
    "\n",
    "# stap 1: zet alle leeftijden achter elkaar in volgorde (laag naar hoog)\n",
    "leeftijden = klas['leeftijd'].sort_values().tolist()\n",
    "\n",
    "# stap 2: neem het middelste getal\n",
    "middelste_getal = leeftijden[math.floor(len(leeftijden)/2)]\n",
    "\n",
    "f\"4: Mediaan is {middelste_getal}, of zonder extra stappen {int(klas['leeftijd'].median())}\""
   ]
  },
  {
   "cell_type": "code",
   "execution_count": 9,
   "id": "98eb89cb-7fc4-47e1-b50f-dba68b7d68b5",
   "metadata": {},
   "outputs": [
    {
     "data": {
      "text/html": [
       "<div>\n",
       "<style scoped>\n",
       "    .dataframe tbody tr th:only-of-type {\n",
       "        vertical-align: middle;\n",
       "    }\n",
       "\n",
       "    .dataframe tbody tr th {\n",
       "        vertical-align: top;\n",
       "    }\n",
       "\n",
       "    .dataframe thead th {\n",
       "        text-align: right;\n",
       "    }\n",
       "</style>\n",
       "<table border=\"1\" class=\"dataframe\">\n",
       "  <thead>\n",
       "    <tr style=\"text-align: right;\">\n",
       "      <th>col_0</th>\n",
       "      <th>lengte_groep</th>\n",
       "      <th>aantal</th>\n",
       "    </tr>\n",
       "  </thead>\n",
       "  <tbody>\n",
       "    <tr>\n",
       "      <th>0</th>\n",
       "      <td>155</td>\n",
       "      <td>2</td>\n",
       "    </tr>\n",
       "    <tr>\n",
       "      <th>1</th>\n",
       "      <td>160</td>\n",
       "      <td>2</td>\n",
       "    </tr>\n",
       "    <tr>\n",
       "      <th>2</th>\n",
       "      <td>165</td>\n",
       "      <td>2</td>\n",
       "    </tr>\n",
       "    <tr>\n",
       "      <th>3</th>\n",
       "      <td>170</td>\n",
       "      <td>6</td>\n",
       "    </tr>\n",
       "    <tr>\n",
       "      <th>4</th>\n",
       "      <td>175</td>\n",
       "      <td>3</td>\n",
       "    </tr>\n",
       "    <tr>\n",
       "      <th>5</th>\n",
       "      <td>180</td>\n",
       "      <td>2</td>\n",
       "    </tr>\n",
       "    <tr>\n",
       "      <th>6</th>\n",
       "      <td>185</td>\n",
       "      <td>4</td>\n",
       "    </tr>\n",
       "    <tr>\n",
       "      <th>7</th>\n",
       "      <td>195</td>\n",
       "      <td>1</td>\n",
       "    </tr>\n",
       "  </tbody>\n",
       "</table>\n",
       "</div>"
      ],
      "text/plain": [
       "col_0  lengte_groep  aantal\n",
       "0               155       2\n",
       "1               160       2\n",
       "2               165       2\n",
       "3               170       6\n",
       "4               175       3\n",
       "5               180       2\n",
       "6               185       4\n",
       "7               195       1"
      ]
     },
     "execution_count": 9,
     "metadata": {},
     "output_type": "execute_result"
    }
   ],
   "source": [
    "# Opdracht 5a: Maak een frequentietabel van de lengtes\n",
    "def lengte_group(l):\n",
    "    \n",
    "    lg = 150\n",
    "    if l >= 155 and l < 160: lg = 155\n",
    "    if l >= 160 and l < 165: lg = 160\n",
    "    if l >= 165 and l < 170: lg = 165\n",
    "    if l >= 170 and l < 175: lg = 170\n",
    "    if l >= 175 and l < 180: lg = 175        \n",
    "    if l >= 180 and l < 185: lg = 180\n",
    "    if l >= 185 and l < 190: lg = 185\n",
    "    if l >= 190 and l < 195: lg = 190        \n",
    "    if l >= 195: lg = 195        \n",
    "        \n",
    "    return lg\n",
    "        \n",
    "klas['lengte_groep'] = klas['lengte'].apply(lambda x: lengte_group(x))\n",
    "freq = pd.crosstab(index=klas['lengte_groep'], columns='aantal')\n",
    "freq = freq.reset_index() # maak lengte_groep weer een kolom, in plaats van de index\n",
    "freq"
   ]
  },
  {
   "cell_type": "code",
   "execution_count": 10,
   "id": "8b260ed1-124c-4457-a743-9c2f844f8c3a",
   "metadata": {},
   "outputs": [
    {
     "data": {
      "text/plain": [
       "175.0"
      ]
     },
     "execution_count": 10,
     "metadata": {},
     "output_type": "execute_result"
    }
   ],
   "source": [
    "# Opdracht 5b: met klassenmiddens\n",
    "# klassenmiddens = (ondergrens + bovengrens) / 2\n",
    "ondergrens = freq['lengte_groep'].min()\n",
    "bovengrens = freq['lengte_groep'].max()\n",
    "klassenmidden = (ondergrens + bovengrens) / 2\n",
    "klassenmidden"
   ]
  },
  {
   "cell_type": "code",
   "execution_count": 11,
   "id": "196745f3-a998-4b0a-b7ba-f663f9117a82",
   "metadata": {},
   "outputs": [
    {
     "data": {
      "text/plain": [
       "172.73"
      ]
     },
     "execution_count": 11,
     "metadata": {},
     "output_type": "execute_result"
    }
   ],
   "source": [
    "# Opdracht 5c: met gewogen gemiddelde\n",
    "\n",
    "# geeft gewicht aan de lengte door deze met het aantal te vermenigvuldigen\n",
    "freq['lengte_opgeteld'] = freq['lengte_groep'] * freq['aantal']\n",
    "\n",
    "# bepaal de som van alle lengtes, en het aantal personen in de klas\n",
    "som_lengte = freq['lengte_opgeteld'].sum()\n",
    "som_aantal = freq['aantal'].sum()\n",
    "\n",
    "# bepaal het gewogen gemiddelde\n",
    "gewogen_gemiddelde = som_lengte/som_aantal\n",
    "gewogen_gemiddelde.round(2)"
   ]
  },
  {
   "cell_type": "code",
   "execution_count": 12,
   "id": "1dde19aa-c5c8-443b-ae33-7284dd395188",
   "metadata": {},
   "outputs": [
    {
     "data": {
      "image/png": "[encoded data removed]",
      "text/plain": [
       "<Figure size 432x288 with 1 Axes>"
      ]
     },
     "metadata": {
      "needs_background": "light"
     },
     "output_type": "display_data"
    }
   ],
   "source": [
    "# Opdracht 6: Boxplot reistijd naar school\n",
    "boxplot = klas.boxplot(column=['reistijd'])"
   ]
  },
  {
   "cell_type": "code",
   "execution_count": 13,
   "id": "998d5405-0f34-48b8-be22-deb440478b70",
   "metadata": {},
   "outputs": [
    {
     "data": {
      "image/png": "[encoded data removed]",
      "text/plain": [
       "<Figure size 432x288 with 1 Axes>"
      ]
     },
     "metadata": {
      "needs_background": "light"
     },
     "output_type": "display_data"
    }
   ],
   "source": [
    "# Opdracht 7: Histogram social media\n",
    "histogram = klas[\"insta_snap\"].hist()"
   ]
  },
  {
   "cell_type": "code",
   "execution_count": 14,
   "id": "3ebb6c71-8424-4f07-bd65-96c64d9faa55",
   "metadata": {},
   "outputs": [
    {
     "name": "stdout",
     "output_type": "stream",
     "text": [
      "De jongens staan net iets lager gemiddeld voor Wiskunde dan de meisjes!\n"
     ]
    },
    {
     "data": {
      "text/html": [
       "<div>\n",
       "<style scoped>\n",
       "    .dataframe tbody tr th:only-of-type {\n",
       "        vertical-align: middle;\n",
       "    }\n",
       "\n",
       "    .dataframe tbody tr th {\n",
       "        vertical-align: top;\n",
       "    }\n",
       "\n",
       "    .dataframe thead th {\n",
       "        text-align: right;\n",
       "    }\n",
       "</style>\n",
       "<table border=\"1\" class=\"dataframe\">\n",
       "  <thead>\n",
       "    <tr style=\"text-align: right;\">\n",
       "      <th></th>\n",
       "      <th>wiskunde_cijfer</th>\n",
       "    </tr>\n",
       "    <tr>\n",
       "      <th>geslacht</th>\n",
       "      <th></th>\n",
       "    </tr>\n",
       "  </thead>\n",
       "  <tbody>\n",
       "    <tr>\n",
       "      <th>man</th>\n",
       "      <td>6.400000</td>\n",
       "    </tr>\n",
       "    <tr>\n",
       "      <th>vrouw</th>\n",
       "      <td>6.428571</td>\n",
       "    </tr>\n",
       "  </tbody>\n",
       "</table>\n",
       "</div>"
      ],
      "text/plain": [
       "          wiskunde_cijfer\n",
       "geslacht                 \n",
       "man              6.400000\n",
       "vrouw            6.428571"
      ]
     },
     "execution_count": 14,
     "metadata": {},
     "output_type": "execute_result"
    }
   ],
   "source": [
    "# Opdracht 8: Staan de meisjes gemiddeld hoger of lager dan de jongens voor Wiskunde?\n",
    "cijfer_wiskunde_per_geslacht = klas.groupby('geslacht').mean()['wiskunde_cijfer'].reset_index()\n",
    "cijfer_wiskunde_per_geslacht = cijfer_wiskunde_per_geslacht.set_index('geslacht')\n",
    "\n",
    "print(f\"De jongens staan net iets lager gemiddeld voor Wiskunde dan de meisjes!\")\n",
    "cijfer_wiskunde_per_geslacht"
   ]
  },
  {
   "cell_type": "code",
   "execution_count": 15,
   "id": "720d18ac-2dd4-493d-92fc-75242e592fba",
   "metadata": {},
   "outputs": [
    {
     "name": "stdout",
     "output_type": "stream",
     "text": [
      "Omdat de meisjes 24.81 minuten gemiddeld meer tijd aan hun huiswerk besteden!\n"
     ]
    },
    {
     "data": {
      "text/html": [
       "<div>\n",
       "<style scoped>\n",
       "    .dataframe tbody tr th:only-of-type {\n",
       "        vertical-align: middle;\n",
       "    }\n",
       "\n",
       "    .dataframe tbody tr th {\n",
       "        vertical-align: top;\n",
       "    }\n",
       "\n",
       "    .dataframe thead th {\n",
       "        text-align: right;\n",
       "    }\n",
       "</style>\n",
       "<table border=\"1\" class=\"dataframe\">\n",
       "  <thead>\n",
       "    <tr style=\"text-align: right;\">\n",
       "      <th></th>\n",
       "      <th>geslacht</th>\n",
       "      <th>huiswerk</th>\n",
       "    </tr>\n",
       "  </thead>\n",
       "  <tbody>\n",
       "    <tr>\n",
       "      <th>0</th>\n",
       "      <td>man</td>\n",
       "      <td>37.333333</td>\n",
       "    </tr>\n",
       "    <tr>\n",
       "      <th>1</th>\n",
       "      <td>vrouw</td>\n",
       "      <td>62.142857</td>\n",
       "    </tr>\n",
       "  </tbody>\n",
       "</table>\n",
       "</div>"
      ],
      "text/plain": [
       "  geslacht   huiswerk\n",
       "0      man  37.333333\n",
       "1    vrouw  62.142857"
      ]
     },
     "execution_count": 15,
     "metadata": {},
     "output_type": "execute_result"
    }
   ],
   "source": [
    " # Opdracht 9: Verklaar het verschil tussen meisjes en jongen\n",
    "huiswerk_per_geslacht = klas.groupby('geslacht').mean()['huiswerk']\n",
    "\n",
    "print(f\"\"\"Omdat de meisjes \\\n",
    "{round(huiswerk_per_geslacht['vrouw'] - huiswerk_per_geslacht['man'],2)} \\\n",
    "minuten gemiddeld meer tijd aan hun huiswerk besteden!\"\"\")\n",
    "\n",
    "huiswerk_per_geslacht.reset_index()"
   ]
  },
  {
   "cell_type": "markdown",
   "id": "a0966888-b26d-4e2b-9f69-b2ea847712e5",
   "metadata": {},
   "source": [
    "# Extra vragen op basis van de tabel!"
   ]
  },
  {
   "cell_type": "code",
   "execution_count": 16,
   "id": "e3e1e2a9-bfdf-49a9-988b-386324230597",
   "metadata": {},
   "outputs": [
    {
     "data": {
      "text/html": [
       "<div>\n",
       "<style scoped>\n",
       "    .dataframe tbody tr th:only-of-type {\n",
       "        vertical-align: middle;\n",
       "    }\n",
       "\n",
       "    .dataframe tbody tr th {\n",
       "        vertical-align: top;\n",
       "    }\n",
       "\n",
       "    .dataframe thead th {\n",
       "        text-align: right;\n",
       "    }\n",
       "</style>\n",
       "<table border=\"1\" class=\"dataframe\">\n",
       "  <thead>\n",
       "    <tr style=\"text-align: right;\">\n",
       "      <th></th>\n",
       "      <th>leerling</th>\n",
       "      <th>reistijd</th>\n",
       "      <th>youtube</th>\n",
       "      <th>insta_snap</th>\n",
       "      <th>tel_netflix</th>\n",
       "      <th>huiswerk</th>\n",
       "      <th>slapen</th>\n",
       "      <th>totale_tijd</th>\n",
       "    </tr>\n",
       "  </thead>\n",
       "  <tbody>\n",
       "    <tr>\n",
       "      <th>0</th>\n",
       "      <td>1</td>\n",
       "      <td>60</td>\n",
       "      <td>180</td>\n",
       "      <td>120</td>\n",
       "      <td>60</td>\n",
       "      <td>30</td>\n",
       "      <td>540</td>\n",
       "      <td>990</td>\n",
       "    </tr>\n",
       "    <tr>\n",
       "      <th>1</th>\n",
       "      <td>2</td>\n",
       "      <td>8</td>\n",
       "      <td>45</td>\n",
       "      <td>210</td>\n",
       "      <td>60</td>\n",
       "      <td>0</td>\n",
       "      <td>360</td>\n",
       "      <td>683</td>\n",
       "    </tr>\n",
       "    <tr>\n",
       "      <th>2</th>\n",
       "      <td>3</td>\n",
       "      <td>18</td>\n",
       "      <td>120</td>\n",
       "      <td>60</td>\n",
       "      <td>0</td>\n",
       "      <td>60</td>\n",
       "      <td>480</td>\n",
       "      <td>738</td>\n",
       "    </tr>\n",
       "    <tr>\n",
       "      <th>3</th>\n",
       "      <td>4</td>\n",
       "      <td>10</td>\n",
       "      <td>180</td>\n",
       "      <td>180</td>\n",
       "      <td>60</td>\n",
       "      <td>60</td>\n",
       "      <td>540</td>\n",
       "      <td>1030</td>\n",
       "    </tr>\n",
       "    <tr>\n",
       "      <th>4</th>\n",
       "      <td>5</td>\n",
       "      <td>15</td>\n",
       "      <td>60</td>\n",
       "      <td>120</td>\n",
       "      <td>420</td>\n",
       "      <td>0</td>\n",
       "      <td>480</td>\n",
       "      <td>1095</td>\n",
       "    </tr>\n",
       "  </tbody>\n",
       "</table>\n",
       "</div>"
      ],
      "text/plain": [
       "   leerling  reistijd  youtube  insta_snap  tel_netflix  huiswerk  slapen  \\\n",
       "0         1        60      180         120           60        30     540   \n",
       "1         2         8       45         210           60         0     360   \n",
       "2         3        18      120          60            0        60     480   \n",
       "3         4        10      180         180           60        60     540   \n",
       "4         5        15       60         120          420         0     480   \n",
       "\n",
       "   totale_tijd  \n",
       "0          990  \n",
       "1          683  \n",
       "2          738  \n",
       "3         1030  \n",
       "4         1095  "
      ]
     },
     "execution_count": 16,
     "metadata": {},
     "output_type": "execute_result"
    }
   ],
   "source": [
    "# Opdracht 10 (voorbereiding)\n",
    "tijd_kolommen = ['reistijd','youtube','insta_snap','tel_netflix','huiswerk','slapen']\n",
    "\n",
    "# maak procent tabel\n",
    "klas_besteding_tijd = klas[\n",
    "    ['leerling','reistijd','youtube','insta_snap','tel_netflix','huiswerk','slapen']\n",
    "].copy()\n",
    "\n",
    "# slapen omzetten naar minuten!\n",
    "klas_besteding_tijd['slapen'] = klas_besteding_tijd['slapen'].apply(lambda x: x * 60)\n",
    "\n",
    "# bereken de totale tijd per dag aan activiteiten om het percentage te kunnen berekenen\n",
    "klas_besteding_tijd['totale_tijd'] = klas_besteding_tijd[tijd_kolommen].sum(axis=1)\n",
    "\n",
    "klas_besteding_tijd.head(5) # geef de 5 eerste regels"
   ]
  },
  {
   "cell_type": "code",
   "execution_count": 17,
   "id": "8af27c9e-1675-48ce-904c-d894de1f80c6",
   "metadata": {},
   "outputs": [
    {
     "data": {
      "text/plain": [
       "'De leerlingen kijken gemiddeld 10.6% van hun tijd naar Youtube!'"
      ]
     },
     "execution_count": 17,
     "metadata": {},
     "output_type": "execute_result"
    }
   ],
   "source": [
    "# Opdracht 10a: Wat is het gemiddelde percentage besteding van tijd aan Youtube van de leerlingen\n",
    "klas_besteding_tijd['youtube_percentage'] = klas_besteding_tijd.apply(\n",
    "    lambda x: \n",
    "        round(\n",
    "            x['youtube']/x['totale_tijd']*100,1 # tijd youtube / totale tijd * 100 is percentage\n",
    "        ), axis=1\n",
    ")\n",
    "f\"\"\"De leerlingen kijken gemiddeld \\\n",
    "{klas_besteding_tijd['youtube_percentage'].mean().round(1)}% \\\n",
    "van hun tijd naar Youtube!\"\"\""
   ]
  },
  {
   "cell_type": "code",
   "execution_count": 18,
   "id": "09cd9587-075a-44d1-9675-58d2b04d0e64",
   "metadata": {},
   "outputs": [
    {
     "data": {
      "image/png": "[encoded data removed]",
      "text/plain": [
       "<Figure size 1080x288 with 1 Axes>"
      ]
     },
     "metadata": {
      "needs_background": "light"
     },
     "output_type": "display_data"
    }
   ],
   "source": [
    "# Opdracht 10b: Verdeling van tijd per leerling als bar plot\n",
    "fig = plt.figure(figsize = (15,4))\n",
    "ax = fig.gca()\n",
    "bar_plot = klas_besteding_tijd[\n",
    "    ['leerling','reistijd','youtube','insta_snap','tel_netflix','huiswerk','slapen']\n",
    "].plot.bar(x='leerling', stacked=True, ax = ax)"
   ]
  },
  {
   "cell_type": "code",
   "execution_count": 19,
   "id": "e93127ea-87e7-4e82-b248-49c82529971b",
   "metadata": {},
   "outputs": [
    {
     "data": {
      "text/plain": [
       "'De leerlingen kijken samen ongeveer 33 uur televisie en Netflix per dag! Dat is gemiddeld 1.5 uur televisie en Netflix per leerling!'"
      ]
     },
     "execution_count": 19,
     "metadata": {},
     "output_type": "execute_result"
    }
   ],
   "source": [
    "# Opdracht 10c: hoeveel uur televisie en netflix kijken de leerlingen samen?\n",
    "tel_netflix_totaal = round( # rond af...\n",
    "        klas_besteding_tijd['tel_netflix'].sum() / 60 \n",
    "    , 0) # op 0 cijfers achter de komma\n",
    "\n",
    "f\"\"\"De leerlingen kijken samen ongeveer {int(tel_netflix_totaal)} uur televisie en Netflix per dag! \\\n",
    "Dat is gemiddeld {round(tel_netflix_totaal / len(klas_besteding_tijd),1)} uur televisie en Netflix per leerling!\"\"\""
   ]
  },
  {
   "cell_type": "code",
   "execution_count": null,
   "id": "123dd7e3-57f4-4596-8fef-ba01def96f4d",
   "metadata": {},
   "outputs": [],
   "source": []
  }
 ],
 "metadata": {
  "kernelspec": {
   "display_name": "Python 3",
   "language": "python",
   "name": "python3"
  },
  "language_info": {
   "codemirror_mode": {
    "name": "ipython",
    "version": 3
   },
   "file_extension": ".py",
   "mimetype": "text/x-python",
   "name": "python",
   "nbconvert_exporter": "python",
   "pygments_lexer": "ipython3",
   "version": "3.8.5"
  }
 },
 "nbformat": 4,
 "nbformat_minor": 5
}
